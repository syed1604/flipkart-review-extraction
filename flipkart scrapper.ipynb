{
 "cells": [
  {
   "cell_type": "code",
   "execution_count": 85,
   "id": "16f1a03a-4801-4890-aec4-d91946432e24",
   "metadata": {},
   "outputs": [],
   "source": [
    "#!pip install flask\n",
    "from bs4 import BeautifulSoup as bs\n",
    "from urllib.request import urlopen\n",
    "import pandas as pd"
   ]
  },
  {
   "cell_type": "code",
   "execution_count": 2,
   "id": "7febd24d-dd6e-4a87-aab6-8a3fc144fd68",
   "metadata": {},
   "outputs": [],
   "source": [
    "#enter the product URl\n",
    "url=\"https://www.flipkart.com/search?q=iphone%20%2014pro&otracker=search&otracker1=search&marketplace=FLIPKART&as-show=on&as=off\""
   ]
  },
  {
   "cell_type": "code",
   "execution_count": 3,
   "id": "cb71369d-253d-4f32-8908-1ce7cb0e7410",
   "metadata": {},
   "outputs": [],
   "source": [
    "#urlopen returns the html info of the page\n",
    "client=urlopen(url)"
   ]
  },
  {
   "cell_type": "code",
   "execution_count": 4,
   "id": "e44e190f-2b25-4d6d-ab09-264f694b259c",
   "metadata": {},
   "outputs": [],
   "source": [
    "page=client.read()"
   ]
  },
  {
   "cell_type": "code",
   "execution_count": 5,
   "id": "00198d46-1cbc-41a9-b628-32e9e590901f",
   "metadata": {},
   "outputs": [],
   "source": [
    "fk_html=bs(page,\"html.parser\")"
   ]
  },
  {
   "cell_type": "code",
   "execution_count": 23,
   "id": "d81504ba-7f04-4df0-8387-990d77518e78",
   "metadata": {},
   "outputs": [],
   "source": [
    "boxes=fk_html.find_all(\"div\",{\"class\": \"_1AtVbE col-12-12\"})\n"
   ]
  },
  {
   "cell_type": "code",
   "execution_count": 24,
   "id": "b66bdb71-0476-45ba-9281-149c0de2294a",
   "metadata": {},
   "outputs": [],
   "source": [
    "del boxes[0:2]"
   ]
  },
  {
   "cell_type": "code",
   "execution_count": 27,
   "id": "a741ca15-7322-48cd-8fb3-fb9341e0a97b",
   "metadata": {},
   "outputs": [],
   "source": [
    "prd=boxes[1]"
   ]
  },
  {
   "cell_type": "code",
   "execution_count": null,
   "id": "af7b5d23-e6fb-48c1-93cb-e96dba883afa",
   "metadata": {
    "tags": []
   },
   "outputs": [
    {
     "data": {
      "text/plain": [
       "'https://www.flipkart.com/apple-iphone-14-pro-space-black-512-gb/p/itm67843bf67dbae?pid=MOBGHWFHH9JVZK6Z&lid=LSTMOBGHWFHH9JVZK6ZJ4HT4L&marketplace=FLIPKART&q=iphone++14pro&store=tyy%2F4io&srno=s_1_2&otracker=search&otracker1=search&fm=organic&iid=a4560653-2e59-40fc-b2fc-bbbf5951ff45.MOBGHWFHH9JVZK6Z.SEARCH&ppt=None&ppn=None&ssid=b4doxfmhtc0000001672737083639&qH=c92dc290d1fa1547'"
      ]
     },
     "execution_count": 29,
     "metadata": {},
     "output_type": "execute_result"
    }
   ],
   "source": [
    "prd_url=\"https://www.flipkart.com\"+prd.div.div.div.a[\"href\"]"
   ]
  },
  {
   "cell_type": "code",
   "execution_count": 45,
   "id": "e01a0dd4-0cd0-4136-be34-e6e71ed7543a",
   "metadata": {},
   "outputs": [],
   "source": [
    "item=urlopen(prd_url)"
   ]
  },
  {
   "cell_type": "code",
   "execution_count": 46,
   "id": "b1076bbb-245b-43c9-95e4-7d5596d06ba6",
   "metadata": {},
   "outputs": [],
   "source": [
    "item_pg=item.read()"
   ]
  },
  {
   "cell_type": "code",
   "execution_count": 47,
   "id": "f47f78cf-c836-42d2-8fbd-e737cd6b85b4",
   "metadata": {},
   "outputs": [],
   "source": [
    "item_html=bs(item_pg,\"html.parser\")\n"
   ]
  },
  {
   "cell_type": "code",
   "execution_count": 48,
   "id": "c4f0b637-c5c9-44f0-8b48-ce2b2215f1ae",
   "metadata": {},
   "outputs": [],
   "source": [
    "comments=item_html.find_all(\"div\",{\"class\":\"_16PBlm\"})"
   ]
  },
  {
   "cell_type": "code",
   "execution_count": 95,
   "id": "acea800f-4c36-4069-ab25-5584524b11de",
   "metadata": {},
   "outputs": [
    {
     "name": "stdout",
     "output_type": "stream",
     "text": [
      "\n"
     ]
    }
   ],
   "source": [
    "name=[]\n",
    "star=[]\n",
    "title=[]\n",
    "description=[]\n",
    "try:\n",
    "    for comment in comments:\n",
    "        name.append(comment.div.div.find_all(\"p\",{ \"class\":\"_2sc7ZR _2V5EHH\"})[0].text)\n",
    "        star.append(comment.div.div.div.div.text)\n",
    "        title.append(comment.div.div.find_all(\"p\",{ \"class\":\"_2-N8zT\"})[0].text)\n",
    "        description.append(comment.div.div.find_all(\"div\",{ \"class\":\"\"})[0].text)\n",
    "except:\n",
    "    print(\"\")\n",
    "\n",
    "\n"
   ]
  },
  {
   "cell_type": "code",
   "execution_count": 91,
   "id": "5388388d-5ad6-473f-bd94-c85a82e33ef4",
   "metadata": {},
   "outputs": [],
   "source": [
    "dic={\"Name\":name,\"Stars\":star,\"Title\":title,\"Description\":description}\n"
   ]
  },
  {
   "cell_type": "code",
   "execution_count": 94,
   "id": "40abc606-5da5-4590-9974-6050a3bc9278",
   "metadata": {},
   "outputs": [],
   "source": [
    "df=pd.DataFrame(dic)"
   ]
  },
  {
   "cell_type": "code",
   "execution_count": 90,
   "id": "6ff89742-e0ed-4327-bce3-e09958542c1c",
   "metadata": {},
   "outputs": [
    {
     "data": {
      "text/html": [
       "<div>\n",
       "<style scoped>\n",
       "    .dataframe tbody tr th:only-of-type {\n",
       "        vertical-align: middle;\n",
       "    }\n",
       "\n",
       "    .dataframe tbody tr th {\n",
       "        vertical-align: top;\n",
       "    }\n",
       "\n",
       "    .dataframe thead th {\n",
       "        text-align: right;\n",
       "    }\n",
       "</style>\n",
       "<table border=\"1\" class=\"dataframe\">\n",
       "  <thead>\n",
       "    <tr style=\"text-align: right;\">\n",
       "      <th></th>\n",
       "      <th>name</th>\n",
       "      <th>star</th>\n",
       "      <th>title</th>\n",
       "      <th>description</th>\n",
       "    </tr>\n",
       "  </thead>\n",
       "  <tbody>\n",
       "    <tr>\n",
       "      <th>0</th>\n",
       "      <td>Debasish Rout</td>\n",
       "      <td>5</td>\n",
       "      <td>Excellent</td>\n",
       "      <td>Upgraded from XR to 14 pro, amazing phone with...</td>\n",
       "    </tr>\n",
       "    <tr>\n",
       "      <th>1</th>\n",
       "      <td>Gautam Aggarwal</td>\n",
       "      <td>5</td>\n",
       "      <td>Brilliant</td>\n",
       "      <td>Fantastic product even though it's just an ite...</td>\n",
       "    </tr>\n",
       "    <tr>\n",
       "      <th>2</th>\n",
       "      <td>Neelendra  Singh</td>\n",
       "      <td>5</td>\n",
       "      <td>Just wow!</td>\n",
       "      <td>Worth the Money✨Brilliant life batteryThe wall...</td>\n",
       "    </tr>\n",
       "    <tr>\n",
       "      <th>3</th>\n",
       "      <td>Sarvesh Saxena</td>\n",
       "      <td>5</td>\n",
       "      <td>Wonderful</td>\n",
       "      <td>Upgraded from iPhone 11 pro to iPhone 14 pro, ...</td>\n",
       "    </tr>\n",
       "    <tr>\n",
       "      <th>4</th>\n",
       "      <td>Salman khan</td>\n",
       "      <td>5</td>\n",
       "      <td>Brilliant</td>\n",
       "      <td>Just WOW!! Best in all segment!!READ MORE</td>\n",
       "    </tr>\n",
       "    <tr>\n",
       "      <th>5</th>\n",
       "      <td>Flipkart Customer</td>\n",
       "      <td>5</td>\n",
       "      <td>Worth every penny</td>\n",
       "      <td>CAMERA IS SUPERBREAD MORE</td>\n",
       "    </tr>\n",
       "    <tr>\n",
       "      <th>6</th>\n",
       "      <td>Pratik Raj</td>\n",
       "      <td>5</td>\n",
       "      <td>Best in the market!</td>\n",
       "      <td>Superb performance and well.READ MORE</td>\n",
       "    </tr>\n",
       "    <tr>\n",
       "      <th>7</th>\n",
       "      <td>Rohith Menon</td>\n",
       "      <td>5</td>\n",
       "      <td>Simply awesome</td>\n",
       "      <td>Best ❤️🔥🔥READ MORE</td>\n",
       "    </tr>\n",
       "    <tr>\n",
       "      <th>8</th>\n",
       "      <td>Flipkart Customer</td>\n",
       "      <td>5</td>\n",
       "      <td>Brilliant</td>\n",
       "      <td>My first iPhone.. And full satisfied..READ MORE</td>\n",
       "    </tr>\n",
       "    <tr>\n",
       "      <th>9</th>\n",
       "      <td>Upendra Singh</td>\n",
       "      <td>4</td>\n",
       "      <td>Delightful</td>\n",
       "      <td>Mind blowing performance.READ MORE</td>\n",
       "    </tr>\n",
       "  </tbody>\n",
       "</table>\n",
       "</div>"
      ],
      "text/plain": [
       "                name star                title  \\\n",
       "0      Debasish Rout    5            Excellent   \n",
       "1    Gautam Aggarwal    5            Brilliant   \n",
       "2   Neelendra  Singh    5            Just wow!   \n",
       "3     Sarvesh Saxena    5            Wonderful   \n",
       "4        Salman khan    5            Brilliant   \n",
       "5  Flipkart Customer    5    Worth every penny   \n",
       "6         Pratik Raj    5  Best in the market!   \n",
       "7       Rohith Menon    5       Simply awesome   \n",
       "8  Flipkart Customer    5            Brilliant   \n",
       "9      Upendra Singh    4           Delightful   \n",
       "\n",
       "                                         description  \n",
       "0  Upgraded from XR to 14 pro, amazing phone with...  \n",
       "1  Fantastic product even though it's just an ite...  \n",
       "2  Worth the Money✨Brilliant life batteryThe wall...  \n",
       "3  Upgraded from iPhone 11 pro to iPhone 14 pro, ...  \n",
       "4          Just WOW!! Best in all segment!!READ MORE  \n",
       "5                          CAMERA IS SUPERBREAD MORE  \n",
       "6              Superb performance and well.READ MORE  \n",
       "7                                 Best ❤️🔥🔥READ MORE  \n",
       "8    My first iPhone.. And full satisfied..READ MORE  \n",
       "9                 Mind blowing performance.READ MORE  "
      ]
     },
     "execution_count": 90,
     "metadata": {},
     "output_type": "execute_result"
    }
   ],
   "source": [
    "df"
   ]
  },
  {
   "cell_type": "code",
   "execution_count": 100,
   "id": "356595df-e216-4902-af0d-3ff1a6ef4e10",
   "metadata": {},
   "outputs": [
    {
     "name": "stdout",
     "output_type": "stream",
     "text": [
      "Requirement already satisfied: session_info in /opt/conda/lib/python3.10/site-packages (1.0.0)\n",
      "Requirement already satisfied: stdlib-list in /opt/conda/lib/python3.10/site-packages (from session_info) (0.8.0)\n"
     ]
    }
   ],
   "source": []
  },
  {
   "cell_type": "code",
   "execution_count": 102,
   "id": "30d9f232-889a-4d4d-a780-72114b43b69f",
   "metadata": {},
   "outputs": [
    {
     "data": {
      "text/html": [
       "<details>\n",
       "<summary>Click to view session information</summary>\n",
       "<pre>\n",
       "-----\n",
       "bs4                 4.11.1\n",
       "flask               2.2.2\n",
       "pandas              1.5.1\n",
       "requests            2.28.1\n",
       "session_info        1.0.0\n",
       "werkzeug            2.2.2\n",
       "-----\n",
       "</pre>\n",
       "<details>\n",
       "<summary>Click to view modules imported as dependencies</summary>\n",
       "<pre>\n",
       "asttokens           NA\n",
       "backcall            0.2.0\n",
       "blinker             1.5\n",
       "bottleneck          1.3.5\n",
       "brotli              NA\n",
       "certifi             2022.09.24\n",
       "charset_normalizer  2.1.1\n",
       "click               8.1.3\n",
       "colorama            0.4.5\n",
       "cython_runtime      NA\n",
       "dateutil            2.8.2\n",
       "debugpy             1.6.3\n",
       "decorator           5.1.1\n",
       "entrypoints         0.4\n",
       "executing           1.1.1\n",
       "google              NA\n",
       "idna                3.4\n",
       "ipykernel           6.16.1\n",
       "ipython_genutils    0.2.0\n",
       "itsdangerous        2.1.2\n",
       "jedi                0.18.1\n",
       "jinja2              3.1.2\n",
       "jupyter_server      1.21.0\n",
       "markupsafe          2.1.1\n",
       "mpl_toolkits        NA\n",
       "numexpr             2.8.3\n",
       "numpy               1.23.4\n",
       "packaging           21.3\n",
       "parso               0.8.3\n",
       "pexpect             4.8.0\n",
       "pickleshare         0.7.5\n",
       "pkg_resources       NA\n",
       "prompt_toolkit      3.0.31\n",
       "psutil              5.9.3\n",
       "ptyprocess          0.7.0\n",
       "pure_eval           0.2.2\n",
       "pydev_ipython       NA\n",
       "pydevconsole        NA\n",
       "pydevd              2.8.0\n",
       "pydevd_file_utils   NA\n",
       "pydevd_plugins      NA\n",
       "pydevd_tracing      NA\n",
       "pygments            2.13.0\n",
       "pytz                2022.5\n",
       "ruamel              NA\n",
       "six                 1.16.0\n",
       "socks               1.7.1\n",
       "soupsieve           2.3.2.post1\n",
       "stack_data          0.5.1\n",
       "tornado             6.1\n",
       "traitlets           5.5.0\n",
       "unicodedata2        NA\n",
       "urllib3             1.26.11\n",
       "wcwidth             0.2.5\n",
       "zmq                 24.0.1\n",
       "zoneinfo            NA\n",
       "</pre>\n",
       "</details> <!-- seems like this ends pre, so might as well be explicit -->\n",
       "<pre>\n",
       "-----\n",
       "IPython             8.5.0\n",
       "jupyter_client      7.3.4\n",
       "jupyter_core        4.11.1\n",
       "jupyterlab          3.5.0\n",
       "notebook            6.5.1\n",
       "-----\n",
       "Python 3.10.6 | packaged by conda-forge | (main, Aug 22 2022, 20:35:26) [GCC 10.4.0]\n",
       "Linux-5.15.0-1026-aws-x86_64-with-glibc2.35\n",
       "-----\n",
       "Session information updated at 2023-01-03 13:16\n",
       "</pre>\n",
       "</details>"
      ],
      "text/plain": [
       "<IPython.core.display.HTML object>"
      ]
     },
     "execution_count": 102,
     "metadata": {},
     "output_type": "execute_result"
    }
   ],
   "source": [
    "import session_info as ses\n",
    "ses.show()"
   ]
  },
  {
   "cell_type": "code",
   "execution_count": null,
   "id": "c2bfc40b-2bd0-48ae-a989-840354ab195f",
   "metadata": {},
   "outputs": [],
   "source": [
    "bs4==4.11.1\n",
    "flask==2.2.2\n",
    "pandas==1.5.1\n",
    "werkzeug            2.2.2"
   ]
  }
 ],
 "metadata": {
  "kernelspec": {
   "display_name": "Python 3 (ipykernel)",
   "language": "python",
   "name": "python3"
  },
  "language_info": {
   "codemirror_mode": {
    "name": "ipython",
    "version": 3
   },
   "file_extension": ".py",
   "mimetype": "text/x-python",
   "name": "python",
   "nbconvert_exporter": "python",
   "pygments_lexer": "ipython3",
   "version": "3.10.6"
  }
 },
 "nbformat": 4,
 "nbformat_minor": 5
}
